{
 "cells": [
  {
   "cell_type": "code",
   "execution_count": 1,
   "id": "f5de39e5",
   "metadata": {},
   "outputs": [],
   "source": [
    "import pandas as pd\n",
    "from selenium import webdriver\n",
    "from selenium.webdriver.common.by import By\n",
    "from selenium.webdriver.chrome.service import Service\n",
    "from selenium.webdriver.chrome.options import Options\n",
    "from selenium.webdriver.common.keys import Keys\n",
    "import time"
   ]
  },
  {
   "cell_type": "code",
   "execution_count": 2,
   "id": "e5a1352a",
   "metadata": {},
   "outputs": [],
   "source": [
    "# Path menuju file eksekutor ChromeDriver\n",
    "chrome_driver_path = 'path/to/chromedriver'"
   ]
  },
  {
   "cell_type": "code",
   "execution_count": 3,
   "id": "f49c270c",
   "metadata": {},
   "outputs": [],
   "source": [
    "# Atur opsi Chrome\n",
    "chrome_options = Options()\n",
    "chrome_options.add_argument('--headless')  # Jalankan dalam mode headless (tanpa membuka jendela browser)"
   ]
  },
  {
   "cell_type": "code",
   "execution_count": 4,
   "id": "9fa20374",
   "metadata": {},
   "outputs": [],
   "source": [
    "# Siapkan layanan ChromeDriver\n",
    "service = Service(executable_path=chrome_driver_path)"
   ]
  },
  {
   "cell_type": "code",
   "execution_count": 5,
   "id": "72cee58f",
   "metadata": {},
   "outputs": [],
   "source": [
    "# Buat instance baru dari ChromeDriver\n",
    "driver = webdriver.Chrome(service=service, options=chrome_options)"
   ]
  },
  {
   "cell_type": "code",
   "execution_count": 6,
   "id": "d8eacb21",
   "metadata": {},
   "outputs": [],
   "source": [
    "# Arahkan ke halaman pencarian pekerjaan\n",
    "job_search_url = 'https://www.linkedin.com/jobs/search/?currentJobId=3622023238&geoId=102478259&keywords=dataanalyst&location=Indonesia&originalSubdomain=id&refresh=true'\n",
    "driver.get(job_search_url)\n",
    "\n",
    "# Tunggu halaman untuk dimuat\n",
    "time.sleep(3)"
   ]
  },
  {
   "cell_type": "code",
   "execution_count": 7,
   "id": "cd3fd1a8",
   "metadata": {},
   "outputs": [],
   "source": [
    "# Gulir ke bagian bawah halaman untuk memuat lebih banyak daftar pekerjaan (sesuaikan jumlah perulangan jika diperlukan)\n",
    "for _ in range(3):\n",
    "    driver.find_element(By.TAG_NAME, 'body').send_keys(Keys.END)\n",
    "    time.sleep(2)"
   ]
  },
  {
   "cell_type": "code",
   "execution_count": 8,
   "id": "0c4dfb29",
   "metadata": {},
   "outputs": [],
   "source": [
    "# Temukan semua daftar pekerjaan di halaman\n",
    "job_listings = driver.find_elements(By.CLASS_NAME, 'base-card')"
   ]
  },
  {
   "cell_type": "code",
   "execution_count": 9,
   "id": "eb42c24d",
   "metadata": {},
   "outputs": [],
   "source": [
    "# Inisialisasi list untuk menyimpan data yang di-scraper\n",
    "titles = []\n",
    "companies = []\n",
    "locations = []"
   ]
  },
  {
   "cell_type": "code",
   "execution_count": 10,
   "id": "8ae0964d",
   "metadata": {},
   "outputs": [],
   "source": [
    "# Ambil judul pekerjaan, nama perusahaan, dan lokasi\n",
    "for listing in job_listings:\n",
    "    try:\n",
    "        title = listing.find_element(By.CLASS_NAME, 'base-search-card__title').text.strip()\n",
    "        company = listing.find_element(By.CLASS_NAME, 'base-search-card__subtitle').text.strip()\n",
    "        location = listing.find_element(By.CLASS_NAME, 'job-search-card__location').text.strip()\n",
    "\n",
    "        titles.append(title)\n",
    "        companies.append(company)\n",
    "        locations.append(location)\n",
    "    except Exception as e:\n",
    "        print(f'Error saat mengambil data pekerjaan: {str(e)}')"
   ]
  },
  {
   "cell_type": "code",
   "execution_count": 11,
   "id": "d48190b4",
   "metadata": {},
   "outputs": [],
   "source": [
    "# Buat pandas DataFrame dengan data yang di-scraper\n",
    "data = {\n",
    "    'Judul': titles,\n",
    "    'Perusahaan': companies,\n",
    "    'Lokasi': locations\n",
    "}\n",
    "df = pd.DataFrame(data)"
   ]
  },
  {
   "cell_type": "code",
   "execution_count": 12,
   "id": "fa7d501d",
   "metadata": {},
   "outputs": [
    {
     "name": "stdout",
     "output_type": "stream",
     "text": [
      "Pengambilan data selesai. Daftar pekerjaan disimpan ke dalam Data_Analyst.xlsx.\n"
     ]
    }
   ],
   "source": [
    "# Simpan DataFrame ke file Excel\n",
    "output_file = 'Data_Analyst.xlsx'\n",
    "df.to_excel(output_file, index=False)\n",
    "\n",
    "# Tutup browser\n",
    "driver.quit()\n",
    "\n",
    "print(f'Pengambilan data selesai. Daftar pekerjaan disimpan ke dalam {output_file}.')"
   ]
  },
  {
   "cell_type": "code",
   "execution_count": null,
   "id": "c1976015",
   "metadata": {},
   "outputs": [],
   "source": []
  }
 ],
 "metadata": {
  "kernelspec": {
   "display_name": "Python 3 (ipykernel)",
   "language": "python",
   "name": "python3"
  },
  "language_info": {
   "codemirror_mode": {
    "name": "ipython",
    "version": 3
   },
   "file_extension": ".py",
   "mimetype": "text/x-python",
   "name": "python",
   "nbconvert_exporter": "python",
   "pygments_lexer": "ipython3",
   "version": "3.10.9"
  }
 },
 "nbformat": 4,
 "nbformat_minor": 5
}
